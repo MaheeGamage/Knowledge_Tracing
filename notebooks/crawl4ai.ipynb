{
 "cells": [
  {
   "cell_type": "markdown",
   "id": "21a1904b",
   "metadata": {},
   "source": [
    "# Crawl4AI"
   ]
  },
  {
   "cell_type": "code",
   "execution_count": null,
   "id": "a840bb13",
   "metadata": {},
   "outputs": [],
   "source": [
    "# Set GEMINI_API_KEY temporarily for this session\n",
    "import os\n",
    "os.environ[\"GEMINI_API_KEY\"] = \"gemini-api-key\"  # Replace with your actual key"
   ]
  },
  {
   "cell_type": "code",
   "execution_count": 1,
   "id": "bb4aadd0",
   "metadata": {},
   "outputs": [],
   "source": [
    "%%capture\n",
    "!pip install -U crawl4ai\n",
    "!pip install nest_asyncio"
   ]
  },
  {
   "cell_type": "code",
   "execution_count": 2,
   "id": "93be12fe",
   "metadata": {},
   "outputs": [
    {
     "name": "stdout",
     "output_type": "stream",
     "text": [
      "0.7.4\n"
     ]
    }
   ],
   "source": [
    "# Check crawl4ai version\n",
    "import crawl4ai\n",
    "print(crawl4ai.__version__.__version__)"
   ]
  },
  {
   "cell_type": "code",
   "execution_count": 3,
   "id": "4829ed64",
   "metadata": {},
   "outputs": [],
   "source": [
    "%%capture\n",
    "!crawl4ai-setup"
   ]
  },
  {
   "cell_type": "code",
   "execution_count": 4,
   "id": "d3ebfb06",
   "metadata": {},
   "outputs": [
    {
     "name": "stdout",
     "output_type": "stream",
     "text": [
      "\u001b[1;36m[\u001b[0m\u001b[36mINIT\u001b[0m\u001b[1;36m]\u001b[0m\u001b[36m...\u001b[0m\u001b[36m. → Running Crawl4AI health check\u001b[0m\u001b[36m...\u001b[0m\u001b[36m \u001b[0m\n",
      "\u001b[1;36m[\u001b[0m\u001b[36mINIT\u001b[0m\u001b[1;36m]\u001b[0m\u001b[36m...\u001b[0m\u001b[36m. → Crawl4AI \u001b[0m\u001b[1;36m0.7\u001b[0m\u001b[36m.\u001b[0m\u001b[1;36m4\u001b[0m\u001b[36m \u001b[0m\n",
      "\u001b[1;36m[\u001b[0m\u001b[36mTEST\u001b[0m\u001b[1;36m]\u001b[0m\u001b[36m...\u001b[0m\u001b[36m. ℹ Testing crawling capabilities\u001b[0m\u001b[36m...\u001b[0m\u001b[36m \u001b[0m\n",
      "\u001b[1;36m[\u001b[0m\u001b[36mEXPORT\u001b[0m\u001b[1;36m]\u001b[0m\u001b[36m.. ℹ Exporting media \u001b[0m\u001b[1;36m(\u001b[0m\u001b[36mPDF/MHTML/screenshot\u001b[0m\u001b[1;36m)\u001b[0m\u001b[36m took \u001b[0m\u001b[1;36m0.\u001b[0m\u001b[36m86s \u001b[0m\n",
      "\u001b[1;32m[\u001b[0m\u001b[32mFETCH\u001b[0m\u001b[1;32m]\u001b[0m\u001b[32m...\u001b[0m\u001b[32m ↓ \u001b[0m\u001b[4;32mhttps://crawl4ai.com\u001b[0m\u001b[32m                                               \u001b[0m\n",
      "\u001b[32m| \u001b[0m\u001b[32m✓\u001b[0m\u001b[32m | ⏱: \u001b[0m\u001b[1;32m4.\u001b[0m\u001b[32m31s \u001b[0m\n",
      "\u001b[1;32m[\u001b[0m\u001b[32mSCRAPE\u001b[0m\u001b[1;32m]\u001b[0m\u001b[32m.. ◆ \u001b[0m\u001b[4;32mhttps://crawl4ai.com\u001b[0m\u001b[32m                                               \u001b[0m\n",
      "\u001b[32m| \u001b[0m\u001b[32m✓\u001b[0m\u001b[32m | ⏱: \u001b[0m\u001b[1;32m0.\u001b[0m\u001b[32m11s \u001b[0m\n",
      "\u001b[1;32m[\u001b[0m\u001b[32mCOMPLETE\u001b[0m\u001b[1;32m]\u001b[0m\u001b[32m ● \u001b[0m\u001b[4;32mhttps://crawl4ai.com\u001b[0m\u001b[32m                                               \u001b[0m\n",
      "\u001b[32m| \u001b[0m\u001b[32m✓\u001b[0m\u001b[32m | ⏱: \u001b[0m\u001b[1;32m4.\u001b[0m\u001b[32m42s \u001b[0m\n",
      "\u001b[1;32m[\u001b[0m\u001b[32mCOMPLETE\u001b[0m\u001b[1;32m]\u001b[0m\u001b[32m ● ✅ Crawling test passed! \u001b[0m\n"
     ]
    }
   ],
   "source": [
    "!crawl4ai-doctor"
   ]
  },
  {
   "cell_type": "code",
   "execution_count": 10,
   "id": "5ffb84f1",
   "metadata": {},
   "outputs": [
    {
     "name": "stdout",
     "output_type": "stream",
     "text": [
      "\n",
      "--- Extracting Structured Data with gemini/gemini-2.0-flash-001 ---\n"
     ]
    },
    {
     "data": {
      "text/html": [
       "<pre style=\"white-space:pre;overflow-x:auto;line-height:normal;font-family:Menlo,'DejaVu Sans Mono',consolas,'Courier New',monospace\"><span style=\"color: #008080; text-decoration-color: #008080; font-weight: bold\">[</span><span style=\"color: #008080; text-decoration-color: #008080\">INIT</span><span style=\"color: #008080; text-decoration-color: #008080; font-weight: bold\">]</span><span style=\"color: #008080; text-decoration-color: #008080\">.... → Crawl4AI </span><span style=\"color: #008080; text-decoration-color: #008080; font-weight: bold\">0.7</span><span style=\"color: #008080; text-decoration-color: #008080\">.</span><span style=\"color: #008080; text-decoration-color: #008080; font-weight: bold\">4</span><span style=\"color: #008080; text-decoration-color: #008080\"> </span>\n",
       "</pre>\n"
      ],
      "text/plain": [
       "\u001b[1;36m[\u001b[0m\u001b[36mINIT\u001b[0m\u001b[1;36m]\u001b[0m\u001b[36m...\u001b[0m\u001b[36m. → Crawl4AI \u001b[0m\u001b[1;36m0.7\u001b[0m\u001b[36m.\u001b[0m\u001b[1;36m4\u001b[0m\u001b[36m \u001b[0m\n"
      ]
     },
     "metadata": {},
     "output_type": "display_data"
    },
    {
     "data": {
      "text/html": [
       "<pre style=\"white-space:pre;overflow-x:auto;line-height:normal;font-family:Menlo,'DejaVu Sans Mono',consolas,'Courier New',monospace\"><span style=\"color: #008000; text-decoration-color: #008000; font-weight: bold\">[</span><span style=\"color: #008000; text-decoration-color: #008000\">FETCH</span><span style=\"color: #008000; text-decoration-color: #008000; font-weight: bold\">]</span><span style=\"color: #008000; text-decoration-color: #008000\">... ↓ </span><span style=\"color: #008000; text-decoration-color: #008000; text-decoration: underline\">https://openai.com/api/pricing/</span><span style=\"color: #008000; text-decoration-color: #008000\">                                                                      |</span>\n",
       "<span style=\"color: #008000; text-decoration-color: #008000\">✓ | ⏱: </span><span style=\"color: #008000; text-decoration-color: #008000; font-weight: bold\">0.</span><span style=\"color: #008000; text-decoration-color: #008000\">02s </span>\n",
       "</pre>\n"
      ],
      "text/plain": [
       "\u001b[1;32m[\u001b[0m\u001b[32mFETCH\u001b[0m\u001b[1;32m]\u001b[0m\u001b[32m...\u001b[0m\u001b[32m ↓ \u001b[0m\u001b[4;32mhttps://openai.com/api/pricing/\u001b[0m\u001b[32m                                                                      |\u001b[0m\n",
       "\u001b[32m✓\u001b[0m\u001b[32m | ⏱: \u001b[0m\u001b[1;32m0.\u001b[0m\u001b[32m02s \u001b[0m\n"
      ]
     },
     "metadata": {},
     "output_type": "display_data"
    },
    {
     "data": {
      "text/html": [
       "<pre style=\"white-space:pre;overflow-x:auto;line-height:normal;font-family:Menlo,'DejaVu Sans Mono',consolas,'Courier New',monospace\"><span style=\"color: #008000; text-decoration-color: #008000; font-weight: bold\">[</span><span style=\"color: #008000; text-decoration-color: #008000\">COMPLETE</span><span style=\"color: #008000; text-decoration-color: #008000; font-weight: bold\">]</span><span style=\"color: #008000; text-decoration-color: #008000\"> ● </span><span style=\"color: #008000; text-decoration-color: #008000; text-decoration: underline\">https://openai.com/api/pricing/</span><span style=\"color: #008000; text-decoration-color: #008000\">                                                                      |</span>\n",
       "<span style=\"color: #008000; text-decoration-color: #008000\">✓ | ⏱: </span><span style=\"color: #008000; text-decoration-color: #008000; font-weight: bold\">0.</span><span style=\"color: #008000; text-decoration-color: #008000\">03s </span>\n",
       "</pre>\n"
      ],
      "text/plain": [
       "\u001b[1;32m[\u001b[0m\u001b[32mCOMPLETE\u001b[0m\u001b[1;32m]\u001b[0m\u001b[32m ● \u001b[0m\u001b[4;32mhttps://openai.com/api/pricing/\u001b[0m\u001b[32m                                                                      |\u001b[0m\n",
       "\u001b[32m✓\u001b[0m\u001b[32m | ⏱: \u001b[0m\u001b[1;32m0.\u001b[0m\u001b[32m03s \u001b[0m\n"
      ]
     },
     "metadata": {},
     "output_type": "display_data"
    },
    {
     "name": "stdout",
     "output_type": "stream",
     "text": [
      "[{'model_name': 'GPT-5', 'input_fee': '$1.250 / 1M tokens', 'output_fee': '$10.000 / 1M tokens', 'error': False}, {'model_name': 'GPT-5 mini', 'input_fee': '$0.250 / 1M tokens', 'output_fee': '$2.000 / 1M tokens', 'error': False}, {'model_name': 'GPT-5 nano', 'input_fee': '$0.050 / 1M tokens', 'output_fee': '$0.400 / 1M tokens', 'error': False}, {'model_name': 'GPT-4.1', 'input_fee': '$3.00 / 1M tokens', 'output_fee': '$12.00 / 1M tokens', 'error': False}, {'model_name': 'GPT-4.1 mini', 'input_fee': '$0.80 / 1M tokens', 'output_fee': '$3.20 / 1M tokens', 'error': False}]\n"
     ]
    }
   ],
   "source": [
    "from crawl4ai import AsyncWebCrawler, CrawlerRunConfig, LLMConfig\n",
    "from crawl4ai.extraction_strategy import LLMExtractionStrategy\n",
    "from crawl4ai import CacheMode\n",
    "from pydantic import BaseModel, Field\n",
    "# from google.colab import userdata\n",
    "import os, json, asyncio\n",
    "\n",
    "class OpenAIModelFee(BaseModel):\n",
    "    model_name: str = Field(..., description=\"Name of the OpenAI model.\")\n",
    "    input_fee: str = Field(..., description=\"Fee for input token for the OpenAI model.\")\n",
    "    output_fee: str = Field(\n",
    "        ..., description=\"Fee for output token for the OpenAI model.\"\n",
    "    )\n",
    "\n",
    "async def extract_structured_data_using_llm(provider: str, api_token: str = None, extra_headers: dict = None):\n",
    "    print(f\"\\n--- Extracting Structured Data with {provider} ---\")\n",
    "\n",
    "    # Skip if API token is missing (for providers that require it)\n",
    "    if api_token is None and provider != \"ollama\":\n",
    "        print(f\"API token is required for {provider}. Skipping this example.\")\n",
    "        return\n",
    "\n",
    "    extra_args = {\"extra_headers\": extra_headers} if extra_headers else {}\n",
    "\n",
    "\n",
    "\n",
    "    config = CrawlerRunConfig(\n",
    "        word_count_threshold=1,\n",
    "        extraction_strategy=LLMExtractionStrategy(\n",
    "            llm_config = LLMConfig(provider=provider, api_token=api_token),\n",
    "            schema=OpenAIModelFee.model_json_schema(),\n",
    "            extraction_type=\"schema\",\n",
    "            instruction=\"\"\"Extract all model names along with fees for input and output tokens.\"\n",
    "            \"{model_name: 'GPT-4', input_fee: 'US$10.00 / 1M tokens', output_fee: 'US$30.00 / 1M tokens'}.\"\"\",\n",
    "            **extra_args\n",
    "        ),\n",
    "        cache_mode = CacheMode.ENABLED\n",
    "    )\n",
    "\n",
    "    async with AsyncWebCrawler(verbose=True) as crawler:\n",
    "        result = await crawler.arun(\n",
    "            url=\"https://openai.com/api/pricing/\",\n",
    "            config=config\n",
    "        )\n",
    "        print(json.loads(result.extracted_content)[:5])\n",
    "\n",
    "# Usage:\n",
    "# await extract_structured_data_using_llm(\"huggingface/meta-llama/Meta-Llama-3.1-8B-Instruct\", os.getenv(\"HUGGINGFACE_API_KEY\"))\n",
    "# await extract_structured_data_using_llm(\"ollama/llama3.2\")\n",
    "output = await extract_structured_data_using_llm(\"gemini/gemini-2.0-flash-001\", os.getenv(\"GEMINI_API_KEY\"))"
   ]
  }
 ],
 "metadata": {
  "kernelspec": {
   "display_name": "Python 3",
   "language": "python",
   "name": "python3"
  },
  "language_info": {
   "codemirror_mode": {
    "name": "ipython",
    "version": 3
   },
   "file_extension": ".py",
   "mimetype": "text/x-python",
   "name": "python",
   "nbconvert_exporter": "python",
   "pygments_lexer": "ipython3",
   "version": "3.12.1"
  }
 },
 "nbformat": 4,
 "nbformat_minor": 5
}
