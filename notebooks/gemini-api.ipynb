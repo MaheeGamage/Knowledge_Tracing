{
 "cells": [
  {
   "cell_type": "markdown",
   "id": "8d5d7cd3",
   "metadata": {},
   "source": [
    "# Gemini API"
   ]
  },
  {
   "cell_type": "code",
   "execution_count": null,
   "id": "a65b294c",
   "metadata": {},
   "outputs": [],
   "source": [
    "# Set GEMINI_API_KEY temporarily for this session\n",
    "import os\n",
    "os.environ[\"GEMINI_API_KEY\"] = \"gemini-api-key\"  # Replace with your actual key"
   ]
  },
  {
   "cell_type": "code",
   "execution_count": 1,
   "id": "ea424904",
   "metadata": {},
   "outputs": [],
   "source": [
    "from google import genai"
   ]
  },
  {
   "cell_type": "code",
   "execution_count": 5,
   "id": "d0218c0b",
   "metadata": {},
   "outputs": [
    {
     "name": "stdout",
     "output_type": "stream",
     "text": [
      "AI learns from data to perform tasks.\n"
     ]
    }
   ],
   "source": [
    "# The client gets the API key from the environment variable `GEMINI_API_KEY`.\n",
    "client = genai.Client()\n",
    "\n",
    "response = client.models.generate_content(\n",
    "    model=\"gemini-2.5-flash-lite\", contents=\"Explain how AI works in a few words\"\n",
    ")\n",
    "print(response.text)"
   ]
  }
 ],
 "metadata": {
  "kernelspec": {
   "display_name": "Python 3",
   "language": "python",
   "name": "python3"
  },
  "language_info": {
   "codemirror_mode": {
    "name": "ipython",
    "version": 3
   },
   "file_extension": ".py",
   "mimetype": "text/x-python",
   "name": "python",
   "nbconvert_exporter": "python",
   "pygments_lexer": "ipython3",
   "version": "3.12.1"
  }
 },
 "nbformat": 4,
 "nbformat_minor": 5
}
