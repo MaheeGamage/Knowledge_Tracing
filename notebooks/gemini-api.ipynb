{
 "cells": [
  {
   "cell_type": "markdown",
   "id": "8d5d7cd3",
   "metadata": {},
   "source": [
    "# Gemini API"
   ]
  },
  {
   "cell_type": "markdown",
   "id": "0df1ddef",
   "metadata": {},
   "source": []
  }
 ],
 "metadata": {
  "language_info": {
   "name": "python"
  }
 },
 "nbformat": 4,
 "nbformat_minor": 5
}
